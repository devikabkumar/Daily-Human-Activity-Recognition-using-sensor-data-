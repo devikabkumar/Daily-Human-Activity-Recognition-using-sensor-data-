{
 "cells": [
  {
   "cell_type": "code",
   "execution_count": 1,
   "metadata": {
    "slideshow": {
     "slide_type": "slide"
    }
   },
   "outputs": [],
   "source": [
    "import pandas as pd\n",
    "import numpy as np\n",
    "import plotly \n",
    "from plotly.offline import download_plotlyjs, init_notebook_mode, plot, iplot\n",
    "import plotly.graph_objs as go\n",
    "from sklearn.tree import DecisionTreeClassifier\n",
    "from sklearn.model_selection import train_test_split\n",
    "from sklearn.neighbors import KNeighborsClassifier\n",
    "from sklearn import metrics\n",
    "from sklearn.naive_bayes import GaussianNB, BernoulliNB, MultinomialNB\n",
    "from sklearn.ensemble import RandomForestClassifier"
   ]
  },
  {
   "cell_type": "code",
   "execution_count": 2,
   "metadata": {
    "slideshow": {
     "slide_type": "slide"
    }
   },
   "outputs": [],
   "source": [
    "df = pd.read_csv('/home/da_2/Downloads/Activity recognition exp/Activity recognition exp/Phones_accelerometer.csv') \n"
   ]
  },
  {
   "cell_type": "code",
   "execution_count": 3,
   "metadata": {
    "slideshow": {
     "slide_type": "subslide"
    }
   },
   "outputs": [],
   "source": [
    "df = df.dropna()"
   ]
  },
  {
   "cell_type": "code",
   "execution_count": 4,
   "metadata": {
    "slideshow": {
     "slide_type": "subslide"
    }
   },
   "outputs": [],
   "source": [
    "df = df.drop(labels = ['Index', 'Arrival_Time','Creation_Time','User','Model','Device' ],axis = 1)"
   ]
  },
  {
   "cell_type": "code",
   "execution_count": 5,
   "metadata": {
    "slideshow": {
     "slide_type": "subslide"
    }
   },
   "outputs": [],
   "source": [
    "features = df.drop(labels =['gt'],axis = 1)\n",
    "target = df['gt']"
   ]
  },
  {
   "cell_type": "code",
   "execution_count": 6,
   "metadata": {
    "slideshow": {
     "slide_type": "slide"
    }
   },
   "outputs": [],
   "source": [
    "\n",
    " # Split dataset into training set and test set\n",
    "X_train, X_test, y_train, y_test = train_test_split(features,target,test_size = 0.3)"
   ]
  },
  {
   "cell_type": "code",
   "execution_count": 7,
   "metadata": {
    "slideshow": {
     "slide_type": "slide"
    }
   },
   "outputs": [],
   "source": [
    "def DecisionTree():\n",
    "    classifier = DecisionTreeClassifier()     # Create a Decision Tree Classifier .\n",
    "    model = classifier.fit(X_train, y_train)\n",
    "    y_pred = classifier.predict(X_test) \n",
    "    print(y_pred)\n",
    "    global DecisionTreeAccurcy\n",
    "    DecisionTreeAccurcy=metrics.accuracy_score(y_test, y_pred)\n",
    "    print(\"Accuracy:\",DecisionTreeAccurcy)\n",
    "    \n",
    "    \n",
    "            "
   ]
  },
  {
   "cell_type": "code",
   "execution_count": 8,
   "metadata": {
    "slideshow": {
     "slide_type": "slide"
    }
   },
   "outputs": [
    {
     "name": "stdout",
     "output_type": "stream",
     "text": [
      "['stand' 'bike' 'sit' ... 'sit' 'sit' 'bike']\n",
      "Accuracy: 0.5885921171659058\n",
      "58.85921171659058\n"
     ]
    }
   ],
   "source": [
    "DecisionTree()\n",
    "print(DecisionTreeAccurcy*100)"
   ]
  },
  {
   "cell_type": "code",
   "execution_count": 17,
   "metadata": {},
   "outputs": [],
   "source": [
    "def RandomForest():\n",
    "    clf = RandomForestClassifier(random_state=0,n_jobs = 2)\n",
    "    clf.fit(X_train,y_train)\n",
    "    y_pred=clf.predict(X_test)\n",
    "    print(y_pred)\n",
    "    global RFaccu\n",
    "    RFaccu=metrics.accuracy_score(y_test, y_pred)\n",
    "    print(\"Accuracy:\",RFaccu)"
   ]
  },
  {
   "cell_type": "code",
   "execution_count": 18,
   "metadata": {},
   "outputs": [
    {
     "name": "stdout",
     "output_type": "stream",
     "text": [
      "['stand' 'bike' 'sit' ... 'sit' 'sit' 'bike']\n",
      "Accuracy: 0.6269211116670307\n",
      "62.69211116670307\n"
     ]
    }
   ],
   "source": [
    "RandomForest()\n",
    "print(RFaccu*100)"
   ]
  },
  {
   "cell_type": "code",
   "execution_count": 26,
   "metadata": {
    "slideshow": {
     "slide_type": "slide"
    }
   },
   "outputs": [],
   "source": [
    "def knn():\n",
    "    classifier = KNeighborsClassifier(n_neighbors=5)  \n",
    "    classifier.fit(X_train, y_train) \n",
    "    y_pred = classifier.predict(X_test)\n",
    "    print(y_pred)\n",
    "    global knnaccu\n",
    "    knnaccu=metrics.accuracy_score(y_test, y_pred)\n",
    "    print(\"Accuracy:\",knnaccu)"
   ]
  },
  {
   "cell_type": "code",
   "execution_count": 27,
   "metadata": {
    "slideshow": {
     "slide_type": "slide"
    }
   },
   "outputs": [
    {
     "name": "stdout",
     "output_type": "stream",
     "text": [
      "['stand' 'stairsdown' 'sit' ... 'sit' 'sit' 'bike']\n",
      "Accuracy: 0.6096977849938959\n",
      "60.96977849938959\n"
     ]
    }
   ],
   "source": [
    "knn()\n",
    "print(knnaccu*100)"
   ]
  },
  {
   "cell_type": "code",
   "execution_count": 30,
   "metadata": {},
   "outputs": [],
   "source": [
    "def Naive():\n",
    "    gnb = GaussianNB()\n",
    "    gnb.fit(X_train,y_train)\n",
    "    y_pred = gnb.predict(X_test)\n",
    "    print(y_pred)\n",
    "    global Nbaccu\n",
    "    Nbaccu=metrics.accuracy_score(y_test, y_pred)    \n",
    "    print(\"Accuracy:\",Nbaccu)"
   ]
  },
  {
   "cell_type": "code",
   "execution_count": 31,
   "metadata": {},
   "outputs": [
    {
     "name": "stdout",
     "output_type": "stream",
     "text": [
      "['stand' 'walk' 'sit' ... 'sit' 'stand' 'stand']\n",
      "Accuracy: 0.4733687118825291\n",
      "47.33687118825291\n"
     ]
    }
   ],
   "source": [
    "Naive()\n",
    "print(Nbaccu*100)"
   ]
  },
  {
   "cell_type": "code",
   "execution_count": 32,
   "metadata": {
    "slideshow": {
     "slide_type": "slide"
    }
   },
   "outputs": [
    {
     "name": "stderr",
     "output_type": "stream",
     "text": [
      "/home/hduser/anaconda3/lib/python3.6/site-packages/plotly/offline/offline.py:635: UserWarning:\n",
      "\n",
      "Your filename `Accuracy Comparison Plot` didn't end with .html. Adding .html to the end of your file.\n",
      "\n"
     ]
    },
    {
     "data": {
      "text/plain": [
       "'file:///home/da_2/Accuracy Comparison Plot.html'"
      ]
     },
     "execution_count": 32,
     "metadata": {},
     "output_type": "execute_result"
    }
   ],
   "source": [
    "data = [go.Bar(\n",
    "            x=['Decision Tree', 'Knn','RF','Naive Baiyes'],\n",
    "            y=[DecisionTreeAccurcy*100,knnaccu*100,RFaccu*100,Nbaccu*100],\n",
    "            marker=dict(\n",
    "        color='rgb(158,202,225)',\n",
    "        line=dict(\n",
    "            color='rgb(8,48,107)',\n",
    "            width=1.5,\n",
    "        )\n",
    "    ))]\n",
    "\n",
    "layout = go.Layout(\n",
    "    autosize=False,\n",
    "    width=500,\n",
    "    height=500,\n",
    "    paper_bgcolor='#7f7f7f',\n",
    "    plot_bgcolor='#c7c7c7',\n",
    "    title=\"Accuracy Comparison Plot\"\n",
    ")\n",
    "\n",
    "fig = go.Figure(data=data, layout=layout)\n",
    "\n",
    "plot(fig, filename='Accuracy Comparison Plot')\n"
   ]
  },
  {
   "cell_type": "code",
   "execution_count": null,
   "metadata": {},
   "outputs": [],
   "source": []
  }
 ],
 "metadata": {
  "celltoolbar": "Slideshow",
  "kernelspec": {
   "display_name": "Python 3",
   "language": "python",
   "name": "python3"
  },
  "language_info": {
   "codemirror_mode": {
    "name": "ipython",
    "version": 3
   },
   "file_extension": ".py",
   "mimetype": "text/x-python",
   "name": "python",
   "nbconvert_exporter": "python",
   "pygments_lexer": "ipython3",
   "version": "3.6.5"
  }
 },
 "nbformat": 4,
 "nbformat_minor": 2
}
